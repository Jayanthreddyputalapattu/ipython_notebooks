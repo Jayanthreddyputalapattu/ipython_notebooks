{
 "cells": [
  {
   "cell_type": "markdown",
   "id": "50416c72-ccb5-4ea2-9195-acf1ab869ec4",
   "metadata": {},
   "source": [
    "# My first Program"
   ]
  },
  {
   "cell_type": "markdown",
   "id": "db9f78f7-a553-4a8f-af89-52a1bfe24d67",
   "metadata": {},
   "source": [
    "I'm going to write a program which will print stars in a right angle triangle tower. Let's get started."
   ]
  },
  {
   "cell_type": "code",
   "execution_count": 1,
   "id": "ea7579cb-0d3d-4044-9ca4-7a4d18119574",
   "metadata": {},
   "outputs": [
    {
     "name": "stdout",
     "output_type": "stream",
     "text": [
      "\n",
      "*\n",
      "**\n",
      "***\n",
      "****\n",
      "*****\n",
      "******\n",
      "*******\n",
      "********\n",
      "*********\n"
     ]
    }
   ],
   "source": [
    "for i in range(10):\n",
    "    for j in range(i):\n",
    "        print('*',end='')\n",
    "    print()"
   ]
  },
  {
   "cell_type": "code",
   "execution_count": null,
   "id": "6a048e86-3a7c-4206-b95d-8a2983c6c78b",
   "metadata": {},
   "outputs": [],
   "source": []
  }
 ],
 "metadata": {
  "kernelspec": {
   "display_name": "Python 3",
   "language": "python",
   "name": "python3"
  },
  "language_info": {
   "codemirror_mode": {
    "name": "ipython",
    "version": 3
   },
   "file_extension": ".py",
   "mimetype": "text/x-python",
   "name": "python",
   "nbconvert_exporter": "python",
   "pygments_lexer": "ipython3",
   "version": "3.8.8"
  }
 },
 "nbformat": 4,
 "nbformat_minor": 5
}
